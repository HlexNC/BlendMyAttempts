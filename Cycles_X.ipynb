{
  "nbformat": 4,
  "nbformat_minor": 0,
  "metadata": {
    "colab": {
      "name": "Cycles_X.ipynb",
      "private_outputs": true,
      "provenance": [],
      "collapsed_sections": [],
      "mount_file_id": "1mE5ixPafM4dZ92A6Nsx9QlLhy8kZJ4Ra",
      "authorship_tag": "ABX9TyNaOvnIqKtERlpMTEIg6lmE",
      "include_colab_link": true
    },
    "kernelspec": {
      "name": "python3",
      "display_name": "Python 3"
    },
    "language_info": {
      "name": "python"
    },
    "accelerator": "GPU"
  },
  "cells": [
    {
      "cell_type": "markdown",
      "metadata": {
        "id": "view-in-github",
        "colab_type": "text"
      },
      "source": [
        "<a href=\"https://colab.research.google.com/github/HlexNC/BlendMyAttempts/blob/main/Cycles_X.ipynb\" target=\"_parent\"><img src=\"https://colab.research.google.com/assets/colab-badge.svg\" alt=\"Open In Colab\"/></a>"
      ]
    },
    {
      "cell_type": "code",
      "metadata": {
        "id": "quOgRSCDfP4K"
      },
      "source": [
        "#Connect Github\n",
        "!git clone https://github.com/HlexNC/BlendMyAttempts.git"
      ],
      "execution_count": null,
      "outputs": []
    },
    {
      "cell_type": "code",
      "metadata": {
        "id": "6ZLBwElEsaoP"
      },
      "source": [
        "#Connect Google Drive\n",
        "from google.colab import drive\n",
        "drive.mount('/gdrive')"
      ],
      "execution_count": null,
      "outputs": []
    },
    {
      "cell_type": "code",
      "metadata": {
        "id": "UaCbWkyqfViT"
      },
      "source": [
        "!wget -c https://builder.blender.org/download/experimental/blender-3.0.0-alpha+cycles-x.a59c17e3f2f1-linux.x86_64-release.tar.xz"
      ],
      "execution_count": null,
      "outputs": []
    },
    {
      "cell_type": "code",
      "metadata": {
        "id": "e0ytV1syfawH"
      },
      "source": [
        "!tar xf blender-3.0.0-alpha+cycles-x.a59c17e3f2f1-linux.x86_64-release.tar.xz"
      ],
      "execution_count": null,
      "outputs": []
    },
    {
      "cell_type": "code",
      "metadata": {
        "id": "wU8PKcmvfjqr"
      },
      "source": [
        "filename = ('./BlendMyAttempts/BlendFiles/Unite_Poly/Barel_Poly.blend')"
      ],
      "execution_count": null,
      "outputs": []
    },
    {
      "cell_type": "code",
      "metadata": {
        "id": "FnkUK3-DfnPS"
      },
      "source": [
        "#Render a Still Frame\n",
        "!sudo ./blender-3.0.0-alpha+cycles-x.a59c17e3f2f1-linux.x86_64-release/blender -b $filename -noaudio -E 'CYCLES' -o '/gdrive/MyDrive/RenderImage.png' -f 1 -F 'PNG' -- --cycles-device OPTIX\n",
        "\n",
        "#Render an Animation\n",
        "#!sudo ./blender-3.0.0-alpha+cycles-x.2ee513621513-linux.x86_64-release/blender -b $filename -noaudio -E 'CYCLES' -o '/gdrive/MyDrive/RenderAnimation_####' -s 1 -e 360 -a -- --cycles-device OPTIX"
      ],
      "execution_count": null,
      "outputs": []
    }
  ]
}