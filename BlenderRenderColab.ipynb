{
  "nbformat": 4,
  "nbformat_minor": 0,
  "metadata": {
    "colab": {
      "name": "BlenderRenderColab.ipynb",
      "private_outputs": true,
      "provenance": [],
      "authorship_tag": "ABX9TyPGJXH14p7oiWvGyApgWWZ+",
      "include_colab_link": true
    },
    "kernelspec": {
      "name": "python3",
      "display_name": "Python 3"
    },
    "language_info": {
      "name": "python"
    },
    "accelerator": "GPU"
  },
  "cells": [
    {
      "cell_type": "markdown",
      "metadata": {
        "id": "view-in-github",
        "colab_type": "text"
      },
      "source": [
        "<a href=\"https://colab.research.google.com/github/HlexNC/BlendMyAttempts/blob/GoogleColab/BlenderRenderColab.ipynb\" target=\"_parent\"><img src=\"https://colab.research.google.com/assets/colab-badge.svg\" alt=\"Open In Colab\"/></a>"
      ]
    },
    {
      "cell_type": "code",
      "metadata": {
        "id": "7e7mBIuwJtGf"
      },
      "source": [
        "!wget https://download.blender.org/release/Blender2.92/blender-2.92.0-linux64.tar.xz"
      ],
      "execution_count": null,
      "outputs": []
    },
    {
      "cell_type": "code",
      "metadata": {
        "id": "bKNYGRcDQ_T4"
      },
      "source": [
        "!tar xf blender-2.92.0-linux64.tar.xz"
      ],
      "execution_count": null,
      "outputs": []
    },
    {
      "cell_type": "code",
      "metadata": {
        "id": "zLagVePhRPmd"
      },
      "source": [
        "from google.colab import drive\n",
        "drive.mount('/gdrive')"
      ],
      "execution_count": null,
      "outputs": []
    },
    {
      "cell_type": "code",
      "metadata": {
        "id": "maqv660MRm5x"
      },
      "source": [
        "filename=('/gdrive/MyDrive/BlenderRenders/chair.blend')"
      ],
      "execution_count": null,
      "outputs": []
    },
    {
      "cell_type": "code",
      "metadata": {
        "id": "KP8KS82TSceV"
      },
      "source": [
        "!sudo ./blender-2.92.0-linux64/blender -b $filename -noaudio -E 'CYCLES' -o '//image_####' -s 1 -e 360 -a -- --cycles-device OPTIX"
      ],
      "execution_count": null,
      "outputs": []
    }
  ]
}